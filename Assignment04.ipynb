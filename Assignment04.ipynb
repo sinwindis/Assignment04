{
 "cells": [
  {
   "cell_type": "markdown",
   "metadata": {},
   "source": [
    "# 20160044 Shin Dong-Ha Assignment04\n",
    "# Github Link : https://github.com/sinwindis/Assignment04"
   ]
  },
  {
   "cell_type": "markdown",
   "metadata": {},
   "source": [
    "importing Necessary Libraries"
   ]
  },
  {
   "cell_type": "code",
   "execution_count": 188,
   "metadata": {},
   "outputs": [],
   "source": [
    "import random\n",
    "import math\n",
    "import matplotlib.pyplot as plt\n",
    "import matplotlib.cm as cm\n",
    "import numpy as np"
   ]
  },
  {
   "cell_type": "markdown",
   "metadata": {},
   "source": [
    "CLASS DEFINITION: MNIST"
   ]
  },
  {
   "cell_type": "code",
   "execution_count": 189,
   "metadata": {},
   "outputs": [],
   "source": [
    "class MNIST:\n",
    "    label = int()\n",
    "    imgData = list()\n",
    "    def __init__(self, a, b):\n",
    "        self.label = a\n",
    "        self.imgData = b"
   ]
  },
  {
   "cell_type": "markdown",
   "metadata": {},
   "source": [
    "내 코드"
   ]
  },
  {
   "cell_type": "code",
   "execution_count": 190,
   "metadata": {},
   "outputs": [],
   "source": [
    "file_data   = \"mnist_test.csv\"\n",
    "handle_file = open(file_data, \"r\")\n",
    "data        = handle_file.readlines()\n",
    "handle_file.close()\n",
    "\n",
    "size_row    = 28    # height of the image\n",
    "size_col    = 28    # width of the image\n",
    "\n",
    "num_image   = len(data)\n",
    "count       = 0     # count for the number of images\n",
    "\n",
    "list_img = list()\n",
    "list_centroid = list()\n",
    "list_group = list()"
   ]
  },
  {
   "cell_type": "markdown",
   "metadata": {},
   "source": [
    "DEFINE FUNCTION: data normalize"
   ]
  },
  {
   "cell_type": "code",
   "execution_count": 191,
   "metadata": {},
   "outputs": [],
   "source": [
    "def normalize(data):\n",
    "\n",
    "    data_normalized = (data - min(data)) / (max(data) - min(data))\n",
    "\n",
    "    return(data_normalized)"
   ]
  },
  {
   "cell_type": "markdown",
   "metadata": {},
   "source": [
    "DEFINE FUNCTION: compute distance"
   ]
  },
  {
   "cell_type": "code",
   "execution_count": 192,
   "metadata": {},
   "outputs": [],
   "source": [
    "def computeDistance(x, y):\n",
    "\n",
    "    d = (x.imgData - y.imgData) ** 2\n",
    "    s = np.sum(d)\n",
    "    # r = np.sqrt(s)\n",
    "\n",
    "    return(s)"
   ]
  },
  {
   "cell_type": "markdown",
   "metadata": {},
   "source": [
    "DEFINE FUNCTION: Initiate Centroid (Initialize 'list_centroid' before use it)"
   ]
  },
  {
   "cell_type": "code",
   "execution_count": 193,
   "metadata": {},
   "outputs": [],
   "source": [
    "def initCentroid(numofCluster):\n",
    "    \n",
    "    for v in range(numofCluster):\n",
    "        list_centroid.append(list_img[v])"
   ]
  },
  {
   "cell_type": "markdown",
   "metadata": {},
   "source": [
    "DEFINE FUNCTION: Visualize Centroids"
   ]
  },
  {
   "cell_type": "code",
   "execution_count": 194,
   "metadata": {},
   "outputs": [],
   "source": [
    "def visCentroid(numofCluster):\n",
    "    \n",
    "    f1 = plt.figure(1)\n",
    "    i = 0\n",
    "    for centroid in list(list_centroid):\n",
    "        label       = centroid.label\n",
    "        im_vector   = centroid.imgData\n",
    "        im_matrix   = im_vector.reshape((size_row, size_col))\n",
    "\n",
    "        plt.subplot(1, 10, i+1)\n",
    "        plt.title(label)\n",
    "        plt.imshow(im_matrix, cmap='Greys', interpolation='None')\n",
    "\n",
    "        frame   = plt.gca()\n",
    "        frame.axes.get_xaxis().set_visible(False)\n",
    "        frame.axes.get_yaxis().set_visible(False)\n",
    "        i += 1"
   ]
  },
  {
   "cell_type": "markdown",
   "metadata": {},
   "source": [
    "DEFINE FUNCTION : Decide Group (Initialize 'list_group' before use it)"
   ]
  },
  {
   "cell_type": "code",
   "execution_count": 195,
   "metadata": {},
   "outputs": [],
   "source": [
    "#Input MNIST Type Data\n",
    "def decideGroup(imagedata):\n",
    "    \n",
    "    min = computeDistance(list_centroid[0], imagedata)\n",
    "    group = 0\n",
    "    i = 0\n",
    "    \n",
    "    for centroid in list(list_centroid):\n",
    "        if min > computeDistance(centroid, imagedata):\n",
    "            min = computeDistance(centroid, imagedata)\n",
    "            group = i\n",
    "            \n",
    "        i += 1\n",
    "        \n",
    "    list_group[group].append(imagedata)\n",
    "    return min"
   ]
  },
  {
   "cell_type": "markdown",
   "metadata": {},
   "source": [
    "DEFINE FUNCTION: Relocate Centroid"
   ]
  },
  {
   "cell_type": "code",
   "execution_count": 196,
   "metadata": {},
   "outputs": [],
   "source": [
    "def relocateCentroid():\n",
    "\n",
    "    centroidTemp = list()\n",
    "    i = 0\n",
    "    for centroid in list(list_centroid):\n",
    "        centroidTemp.append(centroid.imgData)\n",
    "        for v in range(len(centroid.imgData)):\n",
    "            list_centroid[i].imgData[v] = 0\n",
    "        for img in list(list_group[i]):\n",
    "            list_centroid[i].imgData = np.add(img.imgData, list_centroid[i].imgData)\n",
    "        for v in range(len(centroid.imgData)):\n",
    "            list_centroid[i].imgData[v] /= len(list_group[i])\n",
    "        i += 1"
   ]
  },
  {
   "cell_type": "markdown",
   "metadata": {},
   "source": [
    "DEFINE FUNCTION: Calculate Accuracy"
   ]
  },
  {
   "cell_type": "code",
   "execution_count": 197,
   "metadata": {},
   "outputs": [],
   "source": [
    "def calAcc():\n",
    "    list_labelNum = [0, 0, 0, 0, 0, 0, 0, 0, 0, 0]\n",
    "    i = 0\n",
    "    counter = 0\n",
    "    num = 0\n",
    "    for centroid in list(list_centroid):\n",
    "        list_labelNum = [0, 0, 0, 0, 0, 0, 0, 0, 0, 0]\n",
    "        for img in list(list_group[i]):\n",
    "            num += 1\n",
    "            list_labelNum[int(img.label)] += 1\n",
    "        counter += max(list_labelNum)\n",
    "    return (counter/num)"
   ]
  },
  {
   "cell_type": "markdown",
   "metadata": {},
   "source": [
    "DEFINE FUNCTION: Re-Label"
   ]
  },
  {
   "cell_type": "code",
   "execution_count": 198,
   "metadata": {},
   "outputs": [],
   "source": [
    "def reLabel(numofCluster):\n",
    "    for i in range(numofCluster):\n",
    "        list_labelNum = [0, 0, 0, 0, 0, 0, 0, 0, 0, 0]\n",
    "        maxVal = 0\n",
    "        for img in list(list_group[i]):\n",
    "            list_labelNum[int(img.label)] += 1\n",
    "        maxVal = max(list_labelNum)\n",
    "        for v in range(len(list_labelNum)):\n",
    "            if maxVal == list_labelNum[v]:\n",
    "                list_centroid[i].label = v"
   ]
  },
  {
   "cell_type": "markdown",
   "metadata": {},
   "source": [
    "main function"
   ]
  },
  {
   "cell_type": "code",
   "execution_count": 200,
   "metadata": {
    "scrolled": false
   },
   "outputs": [
    {
     "name": "stdout",
     "output_type": "stream",
     "text": [
      "================THE FIRST CENTROID================\n"
     ]
    },
    {
     "data": {
      "image/png": "[encoded data removed]",
      "text/plain": [
       "<Figure size 432x288 with 10 Axes>"
      ]
     },
     "metadata": {},
     "output_type": "display_data"
    },
    {
     "name": "stdout",
     "output_type": "stream",
     "text": [
      "==================================================\n",
      "================THE 83 th CENTROID================\n"
     ]
    },
    {
     "data": {
      "image/png": "[encoded data removed]",
      "text/plain": [
       "<Figure size 432x288 with 10 Axes>"
      ]
     },
     "metadata": {},
     "output_type": "display_data"
    },
    {
     "name": "stdout",
     "output_type": "stream",
     "text": [
      "==================================================\n",
      "Ended at 83 th try\n"
     ]
    },
    {
     "data": {
      "image/png": "[encoded data removed]",
      "text/plain": [
       "<Figure size 432x288 with 1 Axes>"
      ]
     },
     "metadata": {},
     "output_type": "display_data"
    },
    {
     "data": {
      "image/png": "[encoded data removed]",
      "text/plain": [
       "<Figure size 432x288 with 1 Axes>"
      ]
     },
     "metadata": {},
     "output_type": "display_data"
    }
   ],
   "source": [
    "##CHANGE THIS VALUE TO DECIDE CLUSTER NUMBER\n",
    "clusternum = 10\n",
    "\n",
    "##CHANGE THIS VALUE TO DECIDE HOW MANY MNIST IMAGES TO USE\n",
    "rangeNum = 10000\n",
    "\n",
    "############################# FUNCTION IMPLEMENTATION #############################\n",
    "\n",
    "#declare while condition variable and counting variable\n",
    "checker = 1\n",
    "counter = 0\n",
    "energy_sum = 0\n",
    "energy_temp = [-1]\n",
    "acc_temp = list()\n",
    "del acc_temp[:]\n",
    "\n",
    "del list_img[:]\n",
    "\n",
    "#Interpreting data\n",
    "for i in range(rangeNum):\n",
    "\n",
    "    line_data   = data[i].split(',')\n",
    "    label       = line_data[0]\n",
    "    im_vector   = np.asfarray(line_data[1:])\n",
    "    im_vector   = normalize(im_vector)\n",
    "\n",
    "    list_img.append(MNIST(label, im_vector))\n",
    "\n",
    "#Initializeing centroids\n",
    "del list_centroid[:]\n",
    "initCentroid(clusternum)\n",
    "\n",
    "#visualize initial centroid\n",
    "print(\"================THE FIRST CENTROID================\")\n",
    "visCentroid(list_centroid)\n",
    "plt.show()\n",
    "print(\"==================================================\")\n",
    "\n",
    "#loop until the energy value stops changing\n",
    "while 1:\n",
    "    energy_sum = 0\n",
    "    del list_group[:]\n",
    "    \n",
    "    for centroid in list(list_centroid):\n",
    "        list_group.append([])\n",
    "            \n",
    "    for img in list(list_img):\n",
    "        energy_sum += decideGroup(img)\n",
    "    acc_temp.append(calAcc())\n",
    "    energy_temp.append(energy_sum)\n",
    "    relocateCentroid()\n",
    "    if energy_temp[counter] == energy_sum:\n",
    "        reLabel(clusternum)\n",
    "        print(\"================THE\", counter, \"th CENTROID================\")\n",
    "        visCentroid(list_centroid)\n",
    "        plt.show()\n",
    "        print(\"==================================================\")\n",
    "        break\n",
    "    counter += 1\n",
    "    \n",
    "    \n",
    "\n",
    "#print how many time the loop(k-means algorithm) worked\n",
    "print(\"Ended at\",counter,\"th try\")\n",
    "x = range(0, counter + 1)\n",
    "del energy_temp[0]\n",
    "\n",
    "plt.plot(x, energy_temp, 'k', label = 'energy sum')\n",
    "plt.legend(loc='upper right')\n",
    "plt.show()\n",
    "plt.plot(x, acc_temp, 'k', label = 'accuracy average')\n",
    "plt.legend(loc='upper left')\n",
    "plt.show()"
   ]
  },
  {
   "cell_type": "code",
   "execution_count": null,
   "metadata": {},
   "outputs": [],
   "source": []
  }
 ],
 "metadata": {
  "kernelspec": {
   "display_name": "Python 3",
   "language": "python",
   "name": "python3"
  },
  "language_info": {
   "codemirror_mode": {
    "name": "ipython",
    "version": 3
   },
   "file_extension": ".py",
   "mimetype": "text/x-python",
   "name": "python",
   "nbconvert_exporter": "python",
   "pygments_lexer": "ipython3",
   "version": "3.6.5"
  }
 },
 "nbformat": 4,
 "nbformat_minor": 2
}
